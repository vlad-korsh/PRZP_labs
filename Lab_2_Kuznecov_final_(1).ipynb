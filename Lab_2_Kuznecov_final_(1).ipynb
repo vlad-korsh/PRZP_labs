{
  "nbformat": 4,
  "nbformat_minor": 0,
  "metadata": {
    "colab": {
      "name": "Lab_2_Kuznecov_final (1).ipynb",
      "provenance": [],
      "collapsed_sections": []
    },
    "kernelspec": {
      "name": "python3",
      "display_name": "Python 3"
    },
    "language_info": {
      "name": "python"
    }
  },
  "cells": [
    {
      "cell_type": "code",
      "execution_count": 1,
      "metadata": {
        "id": "8kaIkr8CH_dD"
      },
      "outputs": [],
      "source": [
        "\n",
        "# Создадим класс Node, который поместит все ноды, а также функцию для проверки доступа\n",
        "\n",
        "class ChordNode:\n",
        "  nodes_i_know=['', ]\n",
        "  #Создаём ноду как модель\n",
        "  def __init__(self, id, name, ip, input_key, output_key, predecessor_and_successor, data_list,):\n",
        "    self.id = id\n",
        "    self.name = name\n",
        "    self.ip = ip\n",
        "    self.input_key = input_key\n",
        "    self.output_key = output_key\n",
        "    self.predecessor_and_successor = predecessor_and_successor\n",
        "    self.data_list = data_list\n",
        "    ChordNode.nodes_i_know.append(ip)\n",
        "\n"
      ]
    },
    {
      "cell_type": "code",
      "source": [
        "# Добавим класс Finger, который поможет нам соединять ноды\n",
        "import random\n",
        "password_list=[]\n",
        "node_all=[]\n",
        "first_element = ''\n",
        "class Finger:\n",
        "  def __init__(self, id):\n",
        "    self.id=id\n",
        " \n",
        "# Проверка совпадения исходящего ключа одного элемента с входящего ключа второго\n",
        "  def allow_access (self, a, b):\n",
        "    if a.output_key == b.input_key:\n",
        "      print(\"Access allowed\")\n",
        "    else:\n",
        "      print(\"Access denied\")\n",
        "\n",
        "  #Создадим генератор ключейкоторый будет очищаться при каждой новой итерации\n",
        "  def password_generator(self, number):\n",
        "    chars = '+-/*!&$#?=@<>abcdefghijklnopqrstuvwxyzABCDEFGHIJKLMNOPQRSTUVWXYZ1234567890'\n",
        "    #number - Количество паролей\n",
        "    self.number = number\n",
        "    length = 12\n",
        "    for n in range(number):\n",
        "      password =''\n",
        "      for i in range(length):\n",
        "        password += random.choice(chars)\n",
        "      password_list.append(password)\n",
        "\n",
        "\n",
        "  # Зададим механизм пересылки сообщений\n",
        "  def send_message(self):\n",
        "    for a in node_all:\n",
        "      if a.predecessor_and_successor[2] == tn_1.predecessor_and_successor[1]:\n",
        "        continue\n",
        "      else:\n",
        "        for b in node_all:\n",
        "          if b.predecessor_and_successor[0] == first_element:\n",
        "            continue\n",
        "          else:\n",
        "            if a.predecessor_and_successor[2] == b.predecessor_and_successor[1] and a.output_key == b.input_key:\n",
        "              b.data_list = a.data_list\n",
        "\n",
        "\n",
        "\n",
        "# Реализуем поиск по идентификатору\n",
        "  def index_search(self):\n",
        "    index_2a = input(\"Введите желаемый индекс\")\n",
        "    index_2a = int(index_2a)\n",
        "\n",
        "    for a in node_all:\n",
        "      if a.predecessor_and_successor[2] == tn_1.predecessor_and_successor[1]:\n",
        "        continue\n",
        "      else:\n",
        "        for b in node_all:\n",
        "          if b.predecessor_and_successor[0] == first_element:\n",
        "            continue\n",
        "          else:\n",
        "            if a.predecessor_and_successor[2] == b.predecessor_and_successor[1] and a.output_key == b.input_key:\n",
        "              if a.id == index_2a:\n",
        "                print(a.name)\n",
        "            elif a.output_key == 0:\n",
        "              if a.id == index_2a:\n",
        "                print(a.name)\n",
        "                break\n",
        "\n",
        "\n",
        "\n",
        "# Реализуем добавление ноды c, между нодами a и b\n",
        "  def add_node(self, a, b, c):\n",
        "    a.output_key = c.input_key\n",
        "    c.output_key = b.input_key\n",
        "\n",
        "\n",
        "\n",
        "    c.predecessor_and_successor = [a.predecessor_and_successor[1], nodes_i_know[-1], b.predecessor_and_successor[1]]\n",
        "    a.predecessor_and_successor = [a.predecessor_and_successor[0], a.predecessor_and_successor[1], nodes_i_know[-1]]\n",
        "    b.predecessor_and_successor = [nodes_i_know[-1], b.predecessor_and_successor[1], b.predecessor_and_successor[2]]\n",
        "\n",
        "    print('Предшественник:\\n')\n",
        "    print(a.predecessor_and_successor)\n",
        "    print('\\nПреемник:\\n') \n",
        "    print(b.predecessor_and_successor)\n",
        "    print('\\nНовая нода:\\n')\n",
        "    print(c.predecessor_and_successor)\n",
        "\n",
        "\n",
        "\n",
        "#Реализуем удаление ноды:\n",
        "  def del_node(self, a, b, c):\n",
        "    a.output_key = b.input_key\n",
        "    a.predecessor_and_successor = [a.predecessor_and_successor[0], a.predecessor_and_successor[1], b.predecessor_and_successor[1]]\n",
        "    node_five.predecessor_and_successor = [a.predecessor_and_successor[1], b.predecessor_and_successor[1], b.predecessor_and_successor[2]]\n",
        "    \n",
        "    \n",
        "    node_all.remove(c)\n",
        "    del c\n",
        "\n",
        "\n",
        "    print('Предшественник:\\n')\n",
        "    print(a.predecessor_and_successor)\n",
        "    print('\\nПреемник:\\n') \n",
        "    print(b.predecessor_and_successor)\n",
        "\n",
        "\n",
        "\n",
        "#Создадим объект класса Finger для вызова методов этого класса\n",
        "finger_1 = Finger(1)"
      ],
      "metadata": {
        "id": "QitiGVok_yRw"
      },
      "execution_count": 2,
      "outputs": []
    },
    {
      "cell_type": "code",
      "source": [
        "# Сгенерируем ключи и объекты класса ChordNode. На момент инициализации у нас будет 8 нод \n",
        "\n",
        "\n",
        "finger_1.password_generator(8)\n",
        "print(password_list)\n",
        "\n",
        "\n",
        "\n",
        "\n",
        "input_1 = password_list[0]\n",
        "input_2 = password_list[1]\n",
        "input_3 = password_list[2]\n",
        "input_4 = password_list[3]\n",
        "input_5 = password_list[4]\n",
        "input_6 = password_list[5]\n",
        "input_7 = password_list[6]\n",
        "input_8 = password_list[7]\n",
        "\n",
        "\n",
        "node_one = ChordNode(1, 'node_one', '1.ru', input_1, input_2, [], [])\n",
        "node_two = ChordNode(2, 'node_two', '2.ru', input_2, input_3, [], [])\n",
        "node_three = ChordNode(3, 'node_three', '3.ru', input_3, input_4, [], [])\n",
        "node_four = ChordNode(4, 'node_four', '4.ru', input_4, input_5, [], [])\n",
        "node_five = ChordNode(5, 'node_five', '5.ru', input_5, input_6, [], [])\n",
        "node_six = ChordNode(6, 'node_six', '6.ru', input_6, input_7, [], [])\n",
        "node_seven = ChordNode(7, 'node_seven', '7.ru', input_7, input_8, [], [])\n",
        "node_eight = ChordNode(8, 'node_eight', '8.ru', input_8, 0, [], [])\n",
        "\n",
        "finger_1.allow_access(node_one, node_three)"
      ],
      "metadata": {
        "colab": {
          "base_uri": "https://localhost:8080/"
        },
        "id": "dAobUlAbUQtQ",
        "outputId": "09f78ee0-3d3d-4608-a4df-fd37690cfb2f"
      },
      "execution_count": 3,
      "outputs": [
        {
          "output_type": "stream",
          "name": "stdout",
          "text": [
            "['6lMN2?lyRtX>', '?=Tx6e3u5K&3', 'ln$C>D5vphgy', '?PL#vzSK$dE7', 'j9O0GE2FR4iX', 'HukbP$BgL<Zj', 'M&$ipJ-*DMiy', 'v7Ak=Xc6z>x9']\n",
            "Access denied\n"
          ]
        }
      ]
    },
    {
      "cell_type": "code",
      "source": [
        "# Подключим ноды друг к другу\n",
        "\n",
        "nodes_i_know = ChordNode.nodes_i_know\n",
        "\n",
        "#Каждая нода, помимо себя знает ещё две ноды\n",
        "node_one.predecessor_and_successor = [nodes_i_know[0], nodes_i_know[1], nodes_i_know[2]]\n",
        "node_two.predecessor_and_successor = [nodes_i_know[1], nodes_i_know[2], nodes_i_know[3]]\n",
        "node_three.predecessor_and_successor = [nodes_i_know[2], nodes_i_know[3], nodes_i_know[4]]\n",
        "node_four.predecessor_and_successor = [nodes_i_know[3], nodes_i_know[4], nodes_i_know[5]]\n",
        "node_five.predecessor_and_successor = [nodes_i_know[4], nodes_i_know[5], nodes_i_know[6]]\n",
        "node_six.predecessor_and_successor = [nodes_i_know[5], nodes_i_know[6], nodes_i_know[7]]\n",
        "node_seven.predecessor_and_successor = [nodes_i_know[6], nodes_i_know[7], nodes_i_know[8]]\n",
        "node_eight.predecessor_and_successor = [nodes_i_know[7], nodes_i_know[8], nodes_i_know[0]]\n",
        "\n",
        "\n",
        "print(node_six.predecessor_and_successor)\n",
        "# теперь каждая нода знает два ip, ноды, которая передаёт и ноды, которая принимает информацию. Значит, ноды подключены\n",
        "\n",
        "if node_six.predecessor_and_successor[1] == node_seven.predecessor_and_successor[0]:\n",
        "   if node_six.output_key == node_seven.input_key:\n",
        "     print('Nodes connected')\n",
        "\n",
        "\n",
        "\n"
      ],
      "metadata": {
        "id": "IjagobzGcZMW",
        "colab": {
          "base_uri": "https://localhost:8080/"
        },
        "outputId": "5784b616-0026-47be-f076-a0b3e99d0cf8"
      },
      "execution_count": 4,
      "outputs": [
        {
          "output_type": "stream",
          "name": "stdout",
          "text": [
            "['5.ru', '6.ru', '7.ru']\n",
            "Nodes connected\n"
          ]
        }
      ]
    },
    {
      "cell_type": "code",
      "source": [
        "# Опробуем пересылку сообщений между Нодами. \n",
        "\n",
        "# Для начала, изменим первую ноду\n",
        "print(node_one.data_list)\n",
        "node_one.data_list = [\"Korshikov Vlad\", \"Yulia Bogdanova\"]\n",
        "print(node_one.data_list)"
      ],
      "metadata": {
        "id": "jfj4GOYMrF4Y",
        "colab": {
          "base_uri": "https://localhost:8080/"
        },
        "outputId": "13d44653-3c14-4b9f-ba82-60ac71c7bbea"
      },
      "execution_count": 5,
      "outputs": [
        {
          "output_type": "stream",
          "name": "stdout",
          "text": [
            "[]\n",
            "['Korshikov Vlad', 'Yulia Bogdanova']\n"
          ]
        }
      ]
    },
    {
      "cell_type": "code",
      "source": [
        "#Теперь включается механизм пересылки\n",
        "\n",
        "# Создадим класс технических(фиктивных) нод для обеспечения работы скриптов\n",
        "class Tech_node:\n",
        "  def __init__(self, id, name, ip, input_key, output_key, predecessor_and_successor, data_list,):\n",
        "    self.id = id\n",
        "    self.name = name\n",
        "    self.ip = ip\n",
        "    self.input_key = input_key\n",
        "    self.output_key = output_key\n",
        "    self.predecessor_and_successor = predecessor_and_successor\n",
        "    self.data_list = data_list\n",
        "\n",
        "tn_1 = Tech_node(0, '', '', 0, 0, [666,666, 666], [])\n",
        "\n",
        "#Обновим список всех нод и добавим техническую ноду для обеспечения его работы, обновим первое значение в списке \n",
        "node_all = [node_one, node_two, node_three, node_four, node_five, node_six, node_seven, node_eight, tn_1]\n",
        "\n",
        "first_element = node_all[0].predecessor_and_successor[0]\n",
        "\n",
        "# Осуществим пересылку, используя ip и коды доступа. Сделаем два исключения, если a - технический элемент, и если b - первое значение\n",
        "\n",
        "finger_1.send_message() \n",
        "\n",
        "\n",
        "\n",
        "print(node_eight.data_list)"
      ],
      "metadata": {
        "id": "qlaCGI00sH_9",
        "colab": {
          "base_uri": "https://localhost:8080/"
        },
        "outputId": "89a75db8-ce46-45be-de40-f3a08b566c8b"
      },
      "execution_count": 6,
      "outputs": [
        {
          "output_type": "stream",
          "name": "stdout",
          "text": [
            "['Korshikov Vlad', 'Yulia Bogdanova']\n"
          ]
        }
      ]
    },
    {
      "cell_type": "code",
      "source": [
        "print(node_seven.data_list)"
      ],
      "metadata": {
        "id": "lfJSdL5vBdSM",
        "colab": {
          "base_uri": "https://localhost:8080/"
        },
        "outputId": "5eec68dc-d3cb-4e5f-dc7b-60c3d0e638aa"
      },
      "execution_count": 7,
      "outputs": [
        {
          "output_type": "stream",
          "name": "stdout",
          "text": [
            "['Korshikov Vlad', 'Yulia Bogdanova']\n"
          ]
        }
      ]
    },
    {
      "cell_type": "code",
      "source": [
        "print(node_all)"
      ],
      "metadata": {
        "id": "UrH6jAnV1_4t",
        "colab": {
          "base_uri": "https://localhost:8080/"
        },
        "outputId": "db1be9ed-00f0-4c04-fd8d-13887d56b9f3"
      },
      "execution_count": 8,
      "outputs": [
        {
          "output_type": "stream",
          "name": "stdout",
          "text": [
            "[<__main__.ChordNode object at 0x7f2faf7932d0>, <__main__.ChordNode object at 0x7f2faf793390>, <__main__.ChordNode object at 0x7f2fb2bd7f10>, <__main__.ChordNode object at 0x7f2faf793590>, <__main__.ChordNode object at 0x7f2faf7935d0>, <__main__.ChordNode object at 0x7f2faf793610>, <__main__.ChordNode object at 0x7f2faf793650>, <__main__.ChordNode object at 0x7f2faf793690>, <__main__.Tech_node object at 0x7f2facd22310>]\n"
          ]
        }
      ]
    },
    {
      "cell_type": "code",
      "source": [
        "#2. a Реализуем поиск по идентификатору посредством метода в классе finger\n",
        "finger_1.index_search()"
      ],
      "metadata": {
        "id": "173T37bb3-yh",
        "colab": {
          "base_uri": "https://localhost:8080/"
        },
        "outputId": "2a10f70f-730a-449e-d108-5a7a814c4d20"
      },
      "execution_count": 9,
      "outputs": [
        {
          "output_type": "stream",
          "name": "stdout",
          "text": [
            "Введите желаемый индекс4\n",
            "node_four\n"
          ]
        }
      ]
    },
    {
      "cell_type": "code",
      "source": [
        "print(len(node_all))"
      ],
      "metadata": {
        "id": "nWXyZcEy8mLy",
        "colab": {
          "base_uri": "https://localhost:8080/"
        },
        "outputId": "1d75f4d3-914c-4e9f-df0f-734fa1cb6af7"
      },
      "execution_count": 10,
      "outputs": [
        {
          "output_type": "stream",
          "name": "stdout",
          "text": [
            "9\n"
          ]
        }
      ]
    },
    {
      "cell_type": "code",
      "source": [
        "#2.b Реализуем добавление узла в этом модуле\n",
        "#Сгенерируем выходной ключ для нового узла\n",
        "finger_1.password_generator(1)\n",
        "\n",
        "\n",
        "\n",
        "#создадим узел без выходного ключа\n",
        "node_nine = ChordNode(9, 'node_nine', '9.ru', password_list[8], 0, [], [])\n",
        "node_all.append(node_nine)\n",
        "nodes_i_know = ChordNode.nodes_i_know\n",
        "\n",
        "print(node_nine.input_key)\n",
        "\n",
        "#попробуем вставить модуль 9 между 4-м и 5-м. Для этого изменим ip-адрес отправки 4-го узла\n",
        "finger_1.add_node(node_four, node_five, node_nine)"
      ],
      "metadata": {
        "id": "05ghoFDgUavG",
        "colab": {
          "base_uri": "https://localhost:8080/"
        },
        "outputId": "c4246eb0-591a-496b-c982-7244ed7d01ed"
      },
      "execution_count": 11,
      "outputs": [
        {
          "output_type": "stream",
          "name": "stdout",
          "text": [
            "4Vh05hW#QU7!\n",
            "Предшественник:\n",
            "\n",
            "['3.ru', '4.ru', '9.ru']\n",
            "\n",
            "Преемник:\n",
            "\n",
            "['9.ru', '5.ru', '6.ru']\n",
            "\n",
            "Новая нода:\n",
            "\n",
            "['4.ru', '9.ru', '5.ru']\n"
          ]
        }
      ]
    },
    {
      "cell_type": "code",
      "source": [
        "print(len(node_all))"
      ],
      "metadata": {
        "id": "FYrN5ovdnPLH",
        "colab": {
          "base_uri": "https://localhost:8080/"
        },
        "outputId": "f535f0bd-0b1d-43d9-cae9-6f06291e7ccb"
      },
      "execution_count": 12,
      "outputs": [
        {
          "output_type": "stream",
          "name": "stdout",
          "text": [
            "10\n"
          ]
        }
      ]
    },
    {
      "cell_type": "code",
      "source": [
        "#2.c Реализуем удаление ноды:\n",
        "finger_1.del_node(node_four, node_five, node_nine)"
      ],
      "metadata": {
        "colab": {
          "base_uri": "https://localhost:8080/"
        },
        "id": "RGxZH6SFdPfy",
        "outputId": "058514f9-c981-4578-c262-09dfedd1cbf8"
      },
      "execution_count": 13,
      "outputs": [
        {
          "output_type": "stream",
          "name": "stdout",
          "text": [
            "Предшественник:\n",
            "\n",
            "['3.ru', '4.ru', '5.ru']\n",
            "\n",
            "Преемник:\n",
            "\n",
            "['4.ru', '5.ru', '6.ru']\n"
          ]
        }
      ]
    },
    {
      "cell_type": "code",
      "source": [
        "# Проверим\n",
        "print(len(node_all))"
      ],
      "metadata": {
        "id": "-EkxDMDUtXxe",
        "colab": {
          "base_uri": "https://localhost:8080/"
        },
        "outputId": "5ca3bc6d-37e6-4ad6-c490-0196fb3e09e7"
      },
      "execution_count": 14,
      "outputs": [
        {
          "output_type": "stream",
          "name": "stdout",
          "text": [
            "9\n"
          ]
        }
      ]
    }
  ]
}